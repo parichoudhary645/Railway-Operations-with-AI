{
 "cells": [
  {
   "cell_type": "code",
   "execution_count": 1,
   "metadata": {},
   "outputs": [],
   "source": [
    "import cv2\n",
    "import numpy as np\n"
   ]
  },
  {
   "cell_type": "code",
   "execution_count": 2,
   "metadata": {},
   "outputs": [],
   "source": [
    "# Load YOLO object detection model (pre-trained)\n",
    "net = cv2.dnn.readNet(\"yolov3.weights\", \"yolov3.cfg\")\n",
    "layer_names = net.getLayerNames()\n",
    "output_layers = [layer_names[i - 1] for i in net.getUnconnectedOutLayers()]"
   ]
  },
  {
   "cell_type": "code",
   "execution_count": 3,
   "metadata": {},
   "outputs": [],
   "source": [
    "# Load class labels for YOLO (Coco dataset)\n",
    "with open(\"coco.names\", \"r\") as f:\n",
    "    classes = [line.strip() for line in f.readlines()]\n",
    "\n",
    "# Initialize video capture from video file or camera\n",
    "video_path = \"railway_station.mp4.mp4\"  # Replace with your video path\n",
    "cap = cv2.VideoCapture(video_path)"
   ]
  },
  {
   "cell_type": "code",
   "execution_count": 4,
   "metadata": {},
   "outputs": [
    {
     "name": "stdout",
     "output_type": "stream",
     "text": [
      "ALERT: Crowd size exceeded!\n",
      "ALERT: Crowd size exceeded!\n",
      "ALERT: Crowd size exceeded!\n",
      "ALERT: Crowd size exceeded!\n",
      "ALERT: Crowd size exceeded!\n",
      "ALERT: Crowd size exceeded!\n",
      "ALERT: Crowd size exceeded!\n",
      "ALERT: Crowd size exceeded!\n",
      "ALERT: Crowd size exceeded!\n",
      "ALERT: Crowd size exceeded!\n",
      "ALERT: Crowd size exceeded!\n",
      "ALERT: Crowd size exceeded!\n",
      "ALERT: Crowd size exceeded!\n",
      "ALERT: Crowd size exceeded!\n",
      "ALERT: Crowd size exceeded!\n",
      "ALERT: Crowd size exceeded!\n",
      "ALERT: Crowd size exceeded!\n",
      "ALERT: Crowd size exceeded!\n"
     ]
    }
   ],
   "source": [
    "crowd_threshold = 10\n",
    "\n",
    "while cap.isOpened():\n",
    "    ret, frame = cap.read()\n",
    "    if not ret:\n",
    "        print(\"End of video or cannot read frame.\")\n",
    "        break\n",
    "    \n",
    "    # Get the frame height and width\n",
    "    height, width, channels = frame.shape\n",
    "\n",
    "    # Prepare the image for YOLO (blob format)\n",
    "    blob = cv2.dnn.blobFromImage(frame, 0.00392, (416, 416), (0, 0, 0), True, crop=False)\n",
    "    net.setInput(blob)\n",
    "\n",
    "    # Forward pass through the network\n",
    "    outputs = net.forward(output_layers)\n",
    "\n",
    "    # Data containers for detected class ids, confidences, and boxes\n",
    "    class_ids = []\n",
    "    confidences = []\n",
    "    boxes = []\n",
    "\n",
    "    # Iterate through the YOLO output\n",
    "    for output in outputs:\n",
    "        for detection in output:\n",
    "            scores = detection[5:]\n",
    "            class_id = np.argmax(scores)\n",
    "            confidence = scores[class_id]\n",
    "\n",
    "            # Filter for 'person' class and threshold confidence level (e.g., 0.5)\n",
    "            if classes[class_id] == \"person\" and confidence > 0.5:\n",
    "                # Object detected, get bounding box coordinates\n",
    "                center_x = int(detection[0] * width)\n",
    "                center_y = int(detection[1] * height)\n",
    "                w = int(detection[2] * width)\n",
    "                h = int(detection[3] * height)\n",
    "\n",
    "                # Calculate top-left corner of the bounding box\n",
    "                x = int(center_x - w / 2)\n",
    "                y = int(center_y - h / 2)\n",
    "\n",
    "                # Append to the list of detected boxes, confidences, and class_ids\n",
    "                boxes.append([x, y, w, h])\n",
    "                confidences.append(float(confidence))\n",
    "                class_ids.append(class_id)\n",
    "\n",
    "    # Non-maximum suppression to remove redundant overlapping boxes\n",
    "    indexes = cv2.dnn.NMSBoxes(boxes, confidences, score_threshold=0.5, nms_threshold=0.4)\n",
    "\n",
    "    # Count the number of people detected\n",
    "    crowd_count = 0\n",
    "\n",
    "    # Draw bounding boxes for detected persons\n",
    "    if len(indexes) > 0:\n",
    "        for i in indexes.flatten():\n",
    "            x, y, w, h = boxes[i]\n",
    "            label = str(classes[class_ids[i]])\n",
    "            confidence = str(round(confidences[i], 2))\n",
    "\n",
    "            # Draw rectangle and label on the video frame\n",
    "            cv2.rectangle(frame, (x, y), (x + w, y + h), (0, 255, 0), 2)\n",
    "            cv2.putText(frame, f\"{label} {confidence}\", (x, y - 10), cv2.FONT_HERSHEY_SIMPLEX, 0.6, (255, 255, 255), 1)\n",
    "\n",
    "            # If the label is 'person', increment crowd count\n",
    "            if label == \"person\":\n",
    "                crowd_count += 1\n",
    "\n",
    "    # Display crowd count on the video frame\n",
    "    cv2.putText(frame, f\"Crowd Count: {crowd_count}\", (20, 50), cv2.FONT_HERSHEY_SIMPLEX, 1, (0, 0, 255), 1)\n",
    "\n",
    "    # Check if the crowd count exceeds the predefined threshold and trigger an alert\n",
    "    if crowd_count > crowd_threshold:\n",
    "        cv2.putText(frame, \"ALERT: Crowd size exceeded!\", (20, 100), cv2.FONT_HERSHEY_SIMPLEX, 1, (0, 0, 255), 1)\n",
    "        print(\"ALERT: Crowd size exceeded!\")\n",
    "\n",
    "    # Display the frame with detections\n",
    "    cv2.imshow(\"Railway Station - Crowd Detection\", frame)\n",
    "\n",
    "    # Exit on 'q' key press\n",
    "    if cv2.waitKey(1) & 0xFF == ord('q'):\n",
    "        break\n"
   ]
  },
  {
   "cell_type": "code",
   "execution_count": 5,
   "metadata": {},
   "outputs": [],
   "source": [
    "# Release video capture and close display windows\n",
    "cap.release()\n",
    "cv2.destroyAllWindows()"
   ]
  }
 ],
 "metadata": {
  "kernelspec": {
   "display_name": "Python 3",
   "language": "python",
   "name": "python3"
  },
  "language_info": {
   "codemirror_mode": {
    "name": "ipython",
    "version": 3
   },
   "file_extension": ".py",
   "mimetype": "text/x-python",
   "name": "python",
   "nbconvert_exporter": "python",
   "pygments_lexer": "ipython3",
   "version": "3.12.4"
  }
 },
 "nbformat": 4,
 "nbformat_minor": 2
}
