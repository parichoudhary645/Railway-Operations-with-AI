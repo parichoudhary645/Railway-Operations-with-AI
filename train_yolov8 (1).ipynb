{
 "cells": [
  {
   "cell_type": "code",
   "execution_count": 1,
   "metadata": {
    "colab": {
     "base_uri": "https://localhost:8080/"
    },
    "executionInfo": {
     "elapsed": 12,
     "status": "ok",
     "timestamp": 1711091593859,
     "user": {
      "displayName": "Py research",
      "userId": "01140019909617408866"
     },
     "user_tz": -300
    },
    "id": "Y8cDtxLIBHgQ",
    "outputId": "c4e413e7-4633-4c28-9324-6835a2406e59"
   },
   "outputs": [
    {
     "name": "stderr",
     "output_type": "stream",
     "text": [
      "'nvidia-smi' is not recognized as an internal or external command,\n",
      "operable program or batch file.\n"
     ]
    }
   ],
   "source": [
    "!nvidia-smi"
   ]
  },
  {
   "cell_type": "code",
   "execution_count": 2,
   "metadata": {
    "colab": {
     "base_uri": "https://localhost:8080/"
    },
    "executionInfo": {
     "elapsed": 8,
     "status": "ok",
     "timestamp": 1711091593860,
     "user": {
      "displayName": "Py research",
      "userId": "01140019909617408866"
     },
     "user_tz": -300
    },
    "id": "CjpPg4mGKc1v",
    "outputId": "9aa21aff-dab7-4cfe-e25c-328c098ca9eb"
   },
   "outputs": [
    {
     "name": "stdout",
     "output_type": "stream",
     "text": [
      "D:\\TY_EDI\\YOLOv8-Garbage-Overflow-Detection-on-a-Custom-Dataset-Real-Time-Detection-with-Flask-Web-App-main\n"
     ]
    }
   ],
   "source": [
    "\n",
    "\n",
    "import os\n",
    "HOME = os.getcwd()\n",
    "print(HOME)"
   ]
  },
  {
   "cell_type": "markdown",
   "metadata": {
    "id": "3C3EO_2zNChu"
   },
   "source": [
    "## Install YOLOv8\n",
    "\n",
    "⚠️ YOLOv8 is still under heavy development. Breaking changes are being introduced almost weekly. We strive to make our YOLOv8 notebooks work with the latest version of the library. Last tests took place on **27.01.2023** with version **YOLOv8.0.20**.\n",
    "\n",
    "If you notice that our notebook behaves incorrectly - especially if you experience errors that prevent you from going through the tutorial - don't hesitate! Let us know and open an [issue](https://github.com/roboflow/notebooks/issues) on the Roboflow Notebooks repository.\n",
    "\n",
    "YOLOv8 can be installed in two ways - from the source and via pip. This is because it is the first iteration of YOLO to have an official package."
   ]
  },
  {
   "cell_type": "code",
   "execution_count": null,
   "metadata": {
    "colab": {
     "base_uri": "https://localhost:8080/"
    },
    "executionInfo": {
     "elapsed": 91618,
     "status": "ok",
     "timestamp": 1711091685473,
     "user": {
      "displayName": "Py research",
      "userId": "01140019909617408866"
     },
     "user_tz": -300
    },
    "id": "tdSMcABDNKW-",
    "outputId": "8091987a-9fa2-4822-a461-1afca476ffca"
   },
   "outputs": [],
   "source": [
    "# Pip install method (recommended)\n",
    "\n",
    "!pip install ultralytics\n",
    "\n",
    "from IPython import display\n",
    "display.clear_output()\n",
    "\n",
    "import ultralytics\n",
    "ultralytics.checks()"
   ]
  },
  {
   "cell_type": "code",
   "execution_count": null,
   "metadata": {
    "executionInfo": {
     "elapsed": 10,
     "status": "ok",
     "timestamp": 1711091685473,
     "user": {
      "displayName": "Py research",
      "userId": "01140019909617408866"
     },
     "user_tz": -300
    },
    "id": "VOEYrlBoP9-E"
   },
   "outputs": [],
   "source": [
    "\n",
    "\n",
    "from ultralytics import YOLO\n",
    "\n",
    "from IPython.display import display, Image"
   ]
  },
  {
   "cell_type": "markdown",
   "metadata": {
    "id": "HnnZSm5OQfPQ"
   },
   "source": [
    "## CLI Basics"
   ]
  },
  {
   "cell_type": "markdown",
   "metadata": {
    "id": "s5RGYA6sPgEd"
   },
   "source": [
    "## Inference with Pre-trained COCO Model"
   ]
  },
  {
   "cell_type": "markdown",
   "metadata": {
    "id": "AFMBYQtMVL-B"
   },
   "source": [
    "### 🐍 Python SDK\n",
    "\n",
    "The simplest way of simply using YOLOv8 directly in a Python environment."
   ]
  },
  {
   "cell_type": "code",
   "execution_count": null,
   "metadata": {
    "colab": {
     "base_uri": "https://localhost:8080/"
    },
    "executionInfo": {
     "elapsed": 3099,
     "status": "ok",
     "timestamp": 1711091688564,
     "user": {
      "displayName": "Py research",
      "userId": "01140019909617408866"
     },
     "user_tz": -300
    },
    "id": "Rx9NWF-sVN6Y",
    "outputId": "2a41023f-ad8c-446b-cae2-b4e31d83e2cf"
   },
   "outputs": [],
   "source": [
    "model = YOLO(f'{HOME}/yolov8n.pt')\n",
    "results = model.predict(source='https://media.roboflow.com/notebooks/examples/dog.jpeg', conf=0.25)"
   ]
  },
  {
   "cell_type": "code",
   "execution_count": null,
   "metadata": {
    "colab": {
     "base_uri": "https://localhost:8080/",
     "height": 1000
    },
    "executionInfo": {
     "elapsed": 17560,
     "status": "ok",
     "timestamp": 1711091735323,
     "user": {
      "displayName": "Py research",
      "userId": "01140019909617408866"
     },
     "user_tz": -300
    },
    "id": "BSd93ZJzZZKt",
    "outputId": "6f5f4235-5b5f-44a2-e913-6362e0ae30b4"
   },
   "outputs": [],
   "source": [
    "!mkdir {HOME}/datasets\n",
    "%cd {HOME}/datasets\n",
    "\n",
    "\n",
    "!pip install roboflow\n",
    "\n",
    "from roboflow import Roboflow\n",
    "rf = Roboflow(api_key=\"1DwrK5IKCq5wNSGMZcdG\")\n",
    "project = rf.workspace(\"mariswary-deepak-4ajr0\").project(\"garbage-can-overflow\")\n",
    "version = project.version(4)\n",
    "dataset = version.download(\"yolov8\")\n"
   ]
  },
  {
   "cell_type": "markdown",
   "metadata": {
    "id": "YUjFBKKqXa-u"
   },
   "source": [
    "## Custom Trainin"
   ]
  },
  {
   "cell_type": "code",
   "execution_count": null,
   "metadata": {
    "colab": {
     "base_uri": "https://localhost:8080/"
    },
    "executionInfo": {
     "elapsed": 596722,
     "status": "ok",
     "timestamp": 1711095996682,
     "user": {
      "displayName": "Py research",
      "userId": "01140019909617408866"
     },
     "user_tz": -300
    },
    "id": "D2YkphuiaE7_",
    "outputId": "4a95cbc1-eb28-42e8-e76e-1f63d99f2bef"
   },
   "outputs": [],
   "source": [
    "%cd {HOME}/datasets/garbage-can-overflow-4\n",
    "!yolo task=detect mode=train model=yolov8n.pt data=data.yaml epochs=20 imgsz=400 plots=True"
   ]
  },
  {
   "cell_type": "code",
   "execution_count": null,
   "metadata": {
    "colab": {
     "base_uri": "https://localhost:8080/"
    },
    "executionInfo": {
     "elapsed": 404,
     "status": "ok",
     "timestamp": 1711093292994,
     "user": {
      "displayName": "Py research",
      "userId": "01140019909617408866"
     },
     "user_tz": -300
    },
    "id": "1MScstfHhArr",
    "outputId": "b4adaf79-0661-49d2-8634-86964c5b46de"
   },
   "outputs": [],
   "source": [
    "!ls {HOME}/runs/detect/train\n",
    "%cd {HOME}/datasets/garbage-can-overflow-4\n"
   ]
  },
  {
   "cell_type": "code",
   "execution_count": null,
   "metadata": {
    "colab": {
     "base_uri": "https://localhost:8080/",
     "height": 467
    },
    "executionInfo": {
     "elapsed": 952,
     "status": "ok",
     "timestamp": 1711093411539,
     "user": {
      "displayName": "Py research",
      "userId": "01140019909617408866"
     },
     "user_tz": -300
    },
    "id": "_J35i8Ofhjxa",
    "outputId": "50a01396-aa77-4af5-8071-7f3afac08ed1"
   },
   "outputs": [],
   "source": [
    "Image(filename=f'{HOME}/datasets/garbage-can-overflow-4/runs/detect/train/confusion_matrix.png', width=600)"
   ]
  },
  {
   "cell_type": "code",
   "execution_count": null,
   "metadata": {
    "colab": {
     "base_uri": "https://localhost:8080/",
     "height": 335
    },
    "executionInfo": {
     "elapsed": 930,
     "status": "ok",
     "timestamp": 1711093448781,
     "user": {
      "displayName": "Py research",
      "userId": "01140019909617408866"
     },
     "user_tz": -300
    },
    "id": "A-urTWUkhRmn",
    "outputId": "7a5a05f0-e97b-4f6b-b0a2-09da17380ed5"
   },
   "outputs": [],
   "source": [
    "%cd {HOME}\n",
    "Image(filename=f'{HOME}/datasets/garbage-can-overflow-4/runs/detect/train/results.png', width=600)"
   ]
  },
  {
   "cell_type": "code",
   "execution_count": null,
   "metadata": {
    "colab": {
     "base_uri": "https://localhost:8080/",
     "height": 635
    },
    "executionInfo": {
     "elapsed": 1335,
     "status": "ok",
     "timestamp": 1711093465619,
     "user": {
      "displayName": "Py research",
      "userId": "01140019909617408866"
     },
     "user_tz": -300
    },
    "id": "HI4nADCCj3F5",
    "outputId": "f22b249a-3f5b-4918-c249-da1b3ac17382"
   },
   "outputs": [],
   "source": [
    "%cd {HOME}\n",
    "Image(filename=f'{HOME}/datasets/garbage-can-overflow-4/runs/detect/train/val_batch0_pred.jpg', width=600)"
   ]
  },
  {
   "cell_type": "markdown",
   "metadata": {
    "id": "6ODk1VTlevxn"
   },
   "source": [
    "## Validate Custom Model"
   ]
  },
  {
   "cell_type": "markdown",
   "metadata": {
    "id": "i4eASbcWkQBq"
   },
   "source": [
    "## Inference with Custom Model"
   ]
  },
  {
   "cell_type": "code",
   "execution_count": null,
   "metadata": {
    "colab": {
     "base_uri": "https://localhost:8080/"
    },
    "executionInfo": {
     "elapsed": 7113,
     "status": "ok",
     "timestamp": 1711093513373,
     "user": {
      "displayName": "Py research",
      "userId": "01140019909617408866"
     },
     "user_tz": -300
    },
    "id": "Wjc1ctZykYuf",
    "outputId": "c55c8fb0-7aac-4f51-a876-74148bfdfd05"
   },
   "outputs": [],
   "source": [
    "%cd {HOME}\n",
    "!yolo task=detect mode=predict model={HOME}/datasets/garbage-can-overflow-4/runs/detect/train/weights/best.pt conf=0.25 source={dataset.location}/test/images save=True"
   ]
  },
  {
   "cell_type": "markdown",
   "metadata": {
    "id": "mEYIo95n-I0S"
   },
   "source": [
    "**NOTE:** Let's take a look at few results."
   ]
  },
  {
   "cell_type": "code",
   "execution_count": null,
   "metadata": {
    "colab": {
     "base_uri": "https://localhost:8080/",
     "height": 1000
    },
    "executionInfo": {
     "elapsed": 1392,
     "status": "ok",
     "timestamp": 1711093529881,
     "user": {
      "displayName": "Py research",
      "userId": "01140019909617408866"
     },
     "user_tz": -300
    },
    "id": "jbVjEtPAkz3j",
    "outputId": "450bd3e0-eb8c-44f2-c9f6-ab8ffd4be7d8"
   },
   "outputs": [],
   "source": [
    "import glob\n",
    "from IPython.display import Image, display\n",
    "\n",
    "for image_path in glob.glob(f'{HOME}/runs/detect/predict/*.jpg')[:3]:\n",
    "      display(Image(filename=image_path, width=600))\n",
    "      print(\"\\n\")"
   ]
  },
  {
   "cell_type": "markdown",
   "metadata": {
    "id": "j0tsVilOCPyq"
   },
   "source": [
    "## Deploy model on Roboflow\n",
    "\n",
    "Once you have finished training your YOLOv8 model, you’ll have a set of trained weights ready for use. These weights will be in the `/runs/detect/train/weights/best.pt` folder of your project. You can upload your model weights to Roboflow Deploy to use your trained weights on our infinitely scalable infrastructure.\n",
    "\n",
    "The `.deploy()` function in the [Roboflow pip package](https://docs.roboflow.com/python) now supports uploading YOLOv8 weights.\n",
    "\n",
    "To upload model weights, add the following code to the “Inference with Custom Model” section in the aforementioned notebook:"
   ]
  }
 ],
 "metadata": {
  "accelerator": "GPU",
  "colab": {
   "provenance": []
  },
  "gpuClass": "standard",
  "kernelspec": {
   "display_name": "Python 3 (ipykernel)",
   "language": "python",
   "name": "python3"
  },
  "language_info": {
   "codemirror_mode": {
    "name": "ipython",
    "version": 3
   },
   "file_extension": ".py",
   "mimetype": "text/x-python",
   "name": "python",
   "nbconvert_exporter": "python",
   "pygments_lexer": "ipython3",
   "version": "3.12.3"
  }
 },
 "nbformat": 4,
 "nbformat_minor": 4
}
